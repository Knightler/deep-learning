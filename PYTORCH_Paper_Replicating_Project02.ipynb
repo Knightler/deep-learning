{
  "nbformat": 4,
  "nbformat_minor": 0,
  "metadata": {
    "colab": {
      "provenance": [],
      "authorship_tag": "ABX9TyMH1Jtov3hSbts0s5gUB8qu",
      "include_colab_link": true
    },
    "kernelspec": {
      "name": "python3",
      "display_name": "Python 3"
    },
    "language_info": {
      "name": "python"
    }
  },
  "cells": [
    {
      "cell_type": "markdown",
      "metadata": {
        "id": "view-in-github",
        "colab_type": "text"
      },
      "source": [
        "<a href=\"https://colab.research.google.com/github/Knightler/deep-learning/blob/main/PYTORCH_Paper_Replicating_Project02.ipynb\" target=\"_parent\"><img src=\"https://colab.research.google.com/assets/colab-badge.svg\" alt=\"Open In Colab\"/></a>"
      ]
    },
    {
      "cell_type": "markdown",
      "source": [
        "# 08. PyTorch Paper Replicating\n",
        "\n",
        "The goal of machine learning research paper replicating is to turn a ML research paper into usable code.\n",
        "\n",
        "In this notebook we're going to be replicating the Vision Transformer (ViT) architecture/paper with PyTorch: https://arxiv.org/abs/2010.11929"
      ],
      "metadata": {
        "id": "1FprVifiKmiv"
      }
    },
    {
      "cell_type": "code",
      "source": [
        "## 0. Get setup\n",
        "\n",
        "Let's import code we've previously written"
      ],
      "metadata": {
        "id": "R9pMJG1GMWnc"
      },
      "execution_count": null,
      "outputs": []
    }
  ]
}